{
 "metadata": {
  "name": ""
 },
 "nbformat": 3,
 "nbformat_minor": 0,
 "worksheets": [
  {
   "cells": [
    {
     "cell_type": "code",
     "collapsed": false,
     "input": [
      "import rectangle"
     ],
     "language": "python",
     "metadata": {},
     "outputs": [],
     "prompt_number": 1
    },
    {
     "cell_type": "code",
     "collapsed": true,
     "input": [
      "help(rectangle)"
     ],
     "language": "python",
     "metadata": {},
     "outputs": [
      {
       "output_type": "stream",
       "stream": "stdout",
       "text": [
        "Help on module rectangle:\n",
        "\n",
        "NAME\n",
        "    rectangle - Demonstrates how to use attributes in Python\n",
        "\n",
        "FILE\n",
        "    c:\\ws\\stats_py_vm\\python\\rectangle.py\n",
        "\n",
        "CLASSES\n",
        "    __builtin__.object\n",
        "        Point\n",
        "        Rectangle\n",
        "    \n",
        "    class Point(__builtin__.object)\n",
        "     |  Methods defined here:\n",
        "     |  \n",
        "     |  __init__(self)\n",
        "     |  \n",
        "     |  __str__(self)\n",
        "     |  \n",
        "     |  ----------------------------------------------------------------------\n",
        "     |  Data descriptors defined here:\n",
        "     |  \n",
        "     |  __dict__\n",
        "     |      dictionary for instance variables (if defined)\n",
        "     |  \n",
        "     |  __weakref__\n",
        "     |      list of weak references to the object (if defined)\n",
        "     |  \n",
        "     |  x\n",
        "     |      x coordinate of the point\n",
        "     |  \n",
        "     |  y\n",
        "     |      y coordinate of the point\n",
        "    \n",
        "    class Rectangle(__builtin__.object)\n",
        "     |  Methods defined here:\n",
        "     |  \n",
        "     |  __init__(self)\n",
        "     |  \n",
        "     |  getArea(self)\n",
        "     |      computes the area of the rectangle\n",
        "     |  \n",
        "     |  ----------------------------------------------------------------------\n",
        "     |  Data descriptors defined here:\n",
        "     |  \n",
        "     |  __dict__\n",
        "     |      dictionary for instance variables (if defined)\n",
        "     |  \n",
        "     |  __weakref__\n",
        "     |      list of weak references to the object (if defined)\n",
        "     |  \n",
        "     |  bottomRight\n",
        "     |      The bottom-right corner of a rectangle\n",
        "     |      See topLeft for how to get and set values\n",
        "     |  \n",
        "     |  topLeft\n",
        "     |      The top-left corner of a rectangle\n",
        "     |      \n",
        "     |      >>> r = Rectangle() # create a rectangle\n",
        "     |      >>> r.topLeft = 3 # both x and y are set to 3\n",
        "     |      >>> r.topLeft.x\n",
        "     |      3\n",
        "     |      >>> r.topLeft.y\n",
        "     |      3\n",
        "     |      >>> r.topLeft.x = 4; r.topLeft.y = 5 # set individually\n",
        "     |      >>> r.topLeft.x\n",
        "     |      4\n",
        "     |      >>> r.topLeft.y\n",
        "     |      5\n",
        "     |      >>> print r.topLeft\n",
        "     |      Point(4, 5)\n",
        "\n",
        "FUNCTIONS\n",
        "    main()\n",
        "\n",
        "\n"
       ]
      }
     ],
     "prompt_number": 2
    },
    {
     "cell_type": "code",
     "collapsed": false,
     "input": [
      "%pwd"
     ],
     "language": "python",
     "metadata": {},
     "outputs": [
      {
       "metadata": {},
       "output_type": "pyout",
       "prompt_number": 3,
       "text": [
        "u'c:\\\\ws\\\\stats_py_vm\\\\notebooks'"
       ]
      }
     ],
     "prompt_number": 3
    },
    {
     "cell_type": "code",
     "collapsed": false,
     "input": [
      "!ls"
     ],
     "language": "python",
     "metadata": {},
     "outputs": [
      {
       "output_type": "stream",
       "stream": "stdout",
       "text": [
        "Debugging.ipynb\n",
        "Input-Output caching.ipynb\n",
        "Managing Python files.ipynb\n",
        "Numpy arrays.ipynb\n",
        "Rectangle attributes.ipynb\n",
        "first.py\n",
        "first.pyc\n"
       ]
      }
     ],
     "prompt_number": 4
    },
    {
     "cell_type": "code",
     "collapsed": false,
     "input": [
      "r = rectangle.Rectangle()"
     ],
     "language": "python",
     "metadata": {},
     "outputs": [],
     "prompt_number": 5
    },
    {
     "cell_type": "code",
     "collapsed": false,
     "input": [
      "r.topLeft = 3"
     ],
     "language": "python",
     "metadata": {},
     "outputs": [],
     "prompt_number": 6
    },
    {
     "cell_type": "code",
     "collapsed": false,
     "input": [
      "print r.topLeft"
     ],
     "language": "python",
     "metadata": {},
     "outputs": [
      {
       "output_type": "stream",
       "stream": "stdout",
       "text": [
        "Point(3, 3)\n"
       ]
      }
     ],
     "prompt_number": 7
    },
    {
     "cell_type": "code",
     "collapsed": false,
     "input": [
      "print r.topLeft.x, r.topLeft.y"
     ],
     "language": "python",
     "metadata": {},
     "outputs": [
      {
       "output_type": "stream",
       "stream": "stdout",
       "text": [
        "3 3\n"
       ]
      }
     ],
     "prompt_number": 8
    },
    {
     "cell_type": "code",
     "collapsed": false,
     "input": [
      "r.topLeft.x = 4; r.topLeft.y = 5"
     ],
     "language": "python",
     "metadata": {},
     "outputs": [],
     "prompt_number": 9
    },
    {
     "cell_type": "code",
     "collapsed": false,
     "input": [
      "print r.topLeft"
     ],
     "language": "python",
     "metadata": {},
     "outputs": [
      {
       "output_type": "stream",
       "stream": "stdout",
       "text": [
        "Point(4, 5)\n"
       ]
      }
     ],
     "prompt_number": 10
    },
    {
     "cell_type": "code",
     "collapsed": false,
     "input": [
      "r.topLeft?"
     ],
     "language": "python",
     "metadata": {},
     "outputs": [],
     "prompt_number": 11
    },
    {
     "cell_type": "code",
     "collapsed": false,
     "input": [
      "r.getArea?"
     ],
     "language": "python",
     "metadata": {},
     "outputs": [],
     "prompt_number": 12
    },
    {
     "cell_type": "code",
     "collapsed": false,
     "input": [
      "rectangle?"
     ],
     "language": "python",
     "metadata": {},
     "outputs": [],
     "prompt_number": 13
    },
    {
     "cell_type": "code",
     "collapsed": false,
     "input": [
      "rectangle??"
     ],
     "language": "python",
     "metadata": {},
     "outputs": [],
     "prompt_number": 14
    }
   ],
   "metadata": {}
  }
 ]
}