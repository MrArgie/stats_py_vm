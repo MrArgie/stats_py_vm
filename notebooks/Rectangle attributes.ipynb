{
 "metadata": {
  "name": ""
 },
 "nbformat": 3,
 "nbformat_minor": 0,
 "worksheets": [
  {
   "cells": [
    {
     "cell_type": "code",
     "collapsed": false,
     "input": [
      "%connect_info"
     ],
     "language": "python",
     "metadata": {},
     "outputs": [
      {
       "output_type": "stream",
       "stream": "stdout",
       "text": [
        "{\n",
        "  \"stdin_port\": 48897, \n",
        "  \"ip\": \"127.0.0.1\", \n",
        "  \"control_port\": 40288, \n",
        "  \"hb_port\": 57205, \n",
        "  \"signature_scheme\": \"hmac-sha256\", \n",
        "  \"key\": \"65f51be6-bf6c-4299-bbac-9cb32fc99c53\", \n",
        "  \"shell_port\": 47394, \n",
        "  \"transport\": \"tcp\", \n",
        "  \"iopub_port\": 53109\n",
        "}\n",
        "\n",
        "Paste the above JSON into a file, and connect with:\n",
        "    $> ipython <app> --existing <file>\n",
        "or, if you are local, you can connect with just:\n",
        "    $> ipython <app> --existing kernel-11543fa5-0c76-4435-97f7-71d36b4eb4ad.json \n",
        "or even just:\n",
        "    $> ipython <app> --existing \n",
        "if this is the most recent IPython session you have started.\n"
       ]
      }
     ],
     "prompt_number": 3
    },
    {
     "cell_type": "code",
     "collapsed": false,
     "input": [
      "import rectangle"
     ],
     "language": "python",
     "metadata": {},
     "outputs": [],
     "prompt_number": 3
    },
    {
     "cell_type": "code",
     "collapsed": false,
     "input": [
      "!git remote -v"
     ],
     "language": "python",
     "metadata": {},
     "outputs": []
    },
    {
     "cell_type": "code",
     "collapsed": false,
     "input": [
      "rectangle.__file__"
     ],
     "language": "python",
     "metadata": {},
     "outputs": []
    },
    {
     "cell_type": "code",
     "collapsed": false,
     "input": [
      "!ls /vagrant/python"
     ],
     "language": "python",
     "metadata": {},
     "outputs": []
    },
    {
     "cell_type": "code",
     "collapsed": false,
     "input": [
      "from IPython.display import FileLinks\n",
      "FileLinks('/vagrant/python')"
     ],
     "language": "python",
     "metadata": {},
     "outputs": []
    },
    {
     "cell_type": "code",
     "collapsed": true,
     "input": [
      "help(rectangle)"
     ],
     "language": "python",
     "metadata": {},
     "outputs": []
    },
    {
     "cell_type": "code",
     "collapsed": false,
     "input": [
      "%cd /vagrant/notebooks"
     ],
     "language": "python",
     "metadata": {},
     "outputs": []
    },
    {
     "cell_type": "code",
     "collapsed": false,
     "input": [
      "%pwd"
     ],
     "language": "python",
     "metadata": {},
     "outputs": []
    },
    {
     "cell_type": "code",
     "collapsed": false,
     "input": [
      "!ls"
     ],
     "language": "python",
     "metadata": {},
     "outputs": []
    },
    {
     "cell_type": "markdown",
     "metadata": {},
     "source": [
      "Type **TAB** to get a list of previous directories"
     ]
    },
    {
     "cell_type": "code",
     "collapsed": false,
     "input": [
      "%cd -"
     ],
     "language": "python",
     "metadata": {},
     "outputs": []
    },
    {
     "cell_type": "code",
     "collapsed": false,
     "input": [
      "%lsmagic"
     ],
     "language": "python",
     "metadata": {},
     "outputs": []
    },
    {
     "cell_type": "code",
     "collapsed": false,
     "input": [
      "%edit rectangle.py"
     ],
     "language": "python",
     "metadata": {},
     "outputs": []
    },
    {
     "cell_type": "code",
     "collapsed": false,
     "input": [
      "r = rectangle.Rectangle()"
     ],
     "language": "python",
     "metadata": {},
     "outputs": []
    },
    {
     "cell_type": "code",
     "collapsed": false,
     "input": [
      "r.topLeft = 3"
     ],
     "language": "python",
     "metadata": {},
     "outputs": []
    },
    {
     "cell_type": "code",
     "collapsed": false,
     "input": [
      "print r.topLeft"
     ],
     "language": "python",
     "metadata": {},
     "outputs": []
    },
    {
     "cell_type": "code",
     "collapsed": false,
     "input": [
      "print r.topLeft.x, r.topLeft.y"
     ],
     "language": "python",
     "metadata": {},
     "outputs": []
    },
    {
     "cell_type": "code",
     "collapsed": false,
     "input": [
      "r.topLeft.x = 4; r.topLeft.y = 5"
     ],
     "language": "python",
     "metadata": {},
     "outputs": []
    },
    {
     "cell_type": "code",
     "collapsed": false,
     "input": [
      "print r.topLeft"
     ],
     "language": "python",
     "metadata": {},
     "outputs": []
    },
    {
     "cell_type": "code",
     "collapsed": false,
     "input": [
      "r.topLeft?"
     ],
     "language": "python",
     "metadata": {},
     "outputs": []
    },
    {
     "cell_type": "code",
     "collapsed": false,
     "input": [
      "r.getArea?"
     ],
     "language": "python",
     "metadata": {},
     "outputs": []
    },
    {
     "cell_type": "code",
     "collapsed": false,
     "input": [
      "rectangle?"
     ],
     "language": "python",
     "metadata": {},
     "outputs": []
    },
    {
     "cell_type": "code",
     "collapsed": false,
     "input": [
      "%edit /tmp/ipython_edit_8h4dMM.py"
     ],
     "language": "python",
     "metadata": {},
     "outputs": []
    },
    {
     "cell_type": "code",
     "collapsed": false,
     "input": [
      "''' Demonstrates how to use attributes in Python\n",
      "'''\n",
      "class Point(object):\n",
      "    def __init__(self):\n",
      "        self._x = None\n",
      "        self._y = None\n",
      "    @property\n",
      "    def x(self):\n",
      "        ''' x coordinate of the point '''\n",
      "        return self._x\n",
      "    @x.setter\n",
      "    def x(self, value):\n",
      "        self._x = value\n",
      "    @property\n",
      "    def y(self):\n",
      "        ''' y coordinate of the point '''\n",
      "        return self._y\n",
      "    @y.setter\n",
      "    def y(self, value):\n",
      "        self._y = value\n",
      "    def __str__(self):\n",
      "        return 'Point(%s, %s)' % (self._x, self._y)\n",
      "\n",
      "class Rectangle(object):\n",
      "    def __init__(self):\n",
      "        self._topLeft = Point()\n",
      "    @property\n",
      "    def topLeft(self):\n",
      "        ''' The top-left corner of a rectangle\n",
      "\n",
      "        >>> r = Rectangle() # create a rectangle\n",
      "        >>> r.topLeft = 3 # both x and y are set to 3\n",
      "        >>> r.topLeft.x\n",
      "        3\n",
      "        >>> r.topLeft.y\n",
      "        3\n",
      "        >>> r.topLeft.x = 4; r.topLeft.y = 5 # set individually\n",
      "        >>> r.topLeft.x\n",
      "        4\n",
      "        >>> r.topLeft.y\n",
      "        5\n",
      "        >>> print r.topLeft\n",
      "        Point(4, 5)\n",
      "        '''\n",
      "        return self._topLeft\n",
      "    @topLeft.setter\n",
      "    def topLeft(self, value):\n",
      "        self._topLeft.x = value\n",
      "        self._topLeft.y = value\n",
      "    @property\n",
      "    def bottomRight(self):\n",
      "        ''' The bottom-right corner of a rectangle\n",
      "            See topLeft for how to get and set values\n",
      "        '''\n",
      "        return self._bottomRight\n",
      "    @bottomRight.setter\n",
      "    def bottomRight(self, value):\n",
      "        self._bottomRight.x = value\n",
      "        self._bottomRight.y = value\n",
      "    def getArea(self):\n",
      "        ''' computes the area of the rectangle '''\n",
      "        return 0\n",
      "\n",
      "def main():\n",
      "    import doctest\n",
      "    doctest.testmod()\n",
      "\n",
      "if __name__ == '__main__':\n",
      "    main()\n",
      "\n"
     ],
     "language": "python",
     "metadata": {},
     "outputs": []
    },
    {
     "cell_type": "code",
     "collapsed": false,
     "input": [],
     "language": "python",
     "metadata": {},
     "outputs": []
    }
   ],
   "metadata": {}
  }
 ]
}