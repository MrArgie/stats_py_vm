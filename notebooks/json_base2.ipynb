{
 "metadata": {
  "name": "json_base2"
 },
 "nbformat": 3,
 "nbformat_minor": 0,
 "worksheets": [
  {
   "cells": [
    {
     "cell_type": "markdown",
     "metadata": {},
     "source": [
      "First import the `json_base` module"
     ]
    },
    {
     "cell_type": "code",
     "collapsed": false,
     "input": [
      "import json_base2"
     ],
     "language": "python",
     "metadata": {},
     "outputs": [],
     "prompt_number": 9
    },
    {
     "cell_type": "markdown",
     "metadata": {},
     "source": [
      "Run the `main` function"
     ]
    },
    {
     "cell_type": "code",
     "collapsed": false,
     "input": [
      "json_base2.main()"
     ],
     "language": "python",
     "metadata": {},
     "outputs": [
      {
       "output_type": "stream",
       "stream": "stdout",
       "text": [
        "{\n",
        "    \"TopLeft\": 3, \n",
        "    \"BottomRight\": 5\n",
        "}\n"
       ]
      }
     ],
     "prompt_number": 10
    },
    {
     "cell_type": "markdown",
     "metadata": {},
     "source": [
      "Import the `test_json_base` module"
     ]
    },
    {
     "cell_type": "code",
     "collapsed": false,
     "input": [
      "import test_json_base2"
     ],
     "language": "python",
     "metadata": {},
     "outputs": [],
     "prompt_number": 11
    },
    {
     "cell_type": "markdown",
     "metadata": {},
     "source": [
      "Run the `main` function"
     ]
    },
    {
     "cell_type": "code",
     "collapsed": false,
     "input": [
      "test_json_base2.main()"
     ],
     "language": "python",
     "metadata": {},
     "outputs": [
      {
       "output_type": "stream",
       "stream": "stdout",
       "text": [
        "{\n",
        "    \"TopLeft\": {\n",
        "        \"y1\": 2, \n",
        "        \"z1\": 1\n",
        "    }, \n",
        "    \"BottomRight\": {\n",
        "        \"x2\": 3, \n",
        "        \"y2\": 4\n",
        "    }\n",
        "}\n"
       ]
      }
     ],
     "prompt_number": 12
    },
    {
     "cell_type": "code",
     "collapsed": false,
     "input": [],
     "language": "python",
     "metadata": {},
     "outputs": [],
     "prompt_number": 4
    }
   ],
   "metadata": {}
  }
 ]
}