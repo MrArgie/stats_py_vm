{
 "metadata": {
  "name": ""
 },
 "nbformat": 3,
 "nbformat_minor": 0,
 "worksheets": [
  {
   "cells": [
    {
     "cell_type": "markdown",
     "metadata": {},
     "source": [
      "# IPython input-output caching"
     ]
    },
    {
     "cell_type": "markdown",
     "metadata": {},
     "source": [
      "First create some input"
     ]
    },
    {
     "cell_type": "code",
     "collapsed": false,
     "input": [
      "a = 3"
     ],
     "language": "python",
     "metadata": {},
     "outputs": [],
     "prompt_number": 11
    },
    {
     "cell_type": "code",
     "collapsed": false,
     "input": [
      "b = 4"
     ],
     "language": "python",
     "metadata": {},
     "outputs": [],
     "prompt_number": 12
    },
    {
     "cell_type": "code",
     "collapsed": false,
     "input": [
      "c = a + b"
     ],
     "language": "python",
     "metadata": {},
     "outputs": [],
     "prompt_number": 13
    },
    {
     "cell_type": "markdown",
     "metadata": {},
     "source": [
      "## Cached inputs"
     ]
    },
    {
     "cell_type": "markdown",
     "metadata": {},
     "source": [
      "Display cached inputs"
     ]
    },
    {
     "cell_type": "code",
     "collapsed": false,
     "input": [
      "In[1], In[2], In[3]"
     ],
     "language": "python",
     "metadata": {},
     "outputs": [
      {
       "metadata": {},
       "output_type": "pyout",
       "prompt_number": 26,
       "text": [
        "(u'a = 3', u'b = 4', u'c = a + b')"
       ]
      }
     ],
     "prompt_number": 26
    },
    {
     "cell_type": "markdown",
     "metadata": {},
     "source": [
      "Display a range of inputs"
     ]
    },
    {
     "cell_type": "code",
     "collapsed": false,
     "input": [
      "In[1:4]"
     ],
     "language": "python",
     "metadata": {},
     "outputs": [
      {
       "metadata": {},
       "output_type": "pyout",
       "prompt_number": 15,
       "text": [
        "[u'a = 3', u'b = 4', u'c = a + b']"
       ]
      }
     ],
     "prompt_number": 15
    },
    {
     "cell_type": "markdown",
     "metadata": {},
     "source": [
      "A more convenient way to type the previous three inputs"
     ]
    },
    {
     "cell_type": "code",
     "collapsed": false,
     "input": [
      "_i, _ii, _iii"
     ],
     "language": "python",
     "metadata": {},
     "outputs": [
      {
       "metadata": {},
       "output_type": "pyout",
       "prompt_number": 16,
       "text": [
        "(u'In[1:4]', u'In[1], In[2], In[3]', u'c = a + b')"
       ]
      }
     ],
     "prompt_number": 16
    },
    {
     "cell_type": "markdown",
     "metadata": {},
     "source": [
      "An easier way to refer to specific inputs"
     ]
    },
    {
     "cell_type": "code",
     "collapsed": false,
     "input": [
      "_i1, _i2, _i3"
     ],
     "language": "python",
     "metadata": {},
     "outputs": [
      {
       "metadata": {},
       "output_type": "pyout",
       "prompt_number": 17,
       "text": [
        "(u'a = 3', u'b = 4', u'c = a + b')"
       ]
      }
     ],
     "prompt_number": 17
    },
    {
     "cell_type": "markdown",
     "metadata": {},
     "source": [
      "## Cached outputs"
     ]
    },
    {
     "cell_type": "markdown",
     "metadata": {},
     "source": [
      "Display cached outputs"
     ]
    },
    {
     "cell_type": "code",
     "collapsed": false,
     "input": [
      "Out[5], Out[6], Out[7]"
     ],
     "language": "python",
     "metadata": {},
     "outputs": [
      {
       "metadata": {},
       "output_type": "pyout",
       "prompt_number": 18,
       "text": [
        "([u'a = 3', u'b = 4', u'c = a + b'],\n",
        " (u'In[1:4]', u'In[1], In[2], In[3]', u'c = a + b'),\n",
        " (u'a = 3', u'b = 4', u'c = a + b'))"
       ]
      }
     ],
     "prompt_number": 18
    },
    {
     "cell_type": "markdown",
     "metadata": {},
     "source": [
      "A more convenient way to display outputs"
     ]
    },
    {
     "cell_type": "code",
     "collapsed": false,
     "input": [
      "_5, _6, _7"
     ],
     "language": "python",
     "metadata": {},
     "outputs": [
      {
       "metadata": {},
       "output_type": "pyout",
       "prompt_number": 19,
       "text": [
        "([u'a = 3', u'b = 4', u'c = a + b'],\n",
        " (u'In[1:4]', u'In[1], In[2], In[3]', u'c = a + b'),\n",
        " (u'a = 3', u'b = 4', u'c = a + b'))"
       ]
      }
     ],
     "prompt_number": 19
    },
    {
     "cell_type": "markdown",
     "metadata": {},
     "source": [
      "The previous three outputs"
     ]
    },
    {
     "cell_type": "code",
     "collapsed": false,
     "input": [
      "_, __, ___"
     ],
     "language": "python",
     "metadata": {},
     "outputs": [
      {
       "metadata": {},
       "output_type": "pyout",
       "prompt_number": 27,
       "text": [
        "((u'a = 3', u'b = 4', u'c = a + b'),\n",
        " u'c = a + b',\n",
        " ([u'a = 3', u'b = 4', u'c = a + b'],\n",
        "  (u'In[1:4]', u'In[1], In[2], In[3]', u'c = a + b'),\n",
        "  (u'a = 3', u'b = 4', u'c = a + b')))"
       ]
      }
     ],
     "prompt_number": 27
    },
    {
     "cell_type": "code",
     "collapsed": false,
     "input": [],
     "language": "python",
     "metadata": {},
     "outputs": [],
     "prompt_number": 20
    }
   ],
   "metadata": {}
  }
 ]
}