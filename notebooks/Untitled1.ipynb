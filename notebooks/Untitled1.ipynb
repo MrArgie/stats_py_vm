{
 "metadata": {
  "name": "Untitled1"
 },
 "nbformat": 3,
 "nbformat_minor": 0,
 "worksheets": [
  {
   "cells": [
    {
     "cell_type": "code",
     "collapsed": false,
     "input": [
      "import classic_models_pandas as cm_p"
     ],
     "language": "python",
     "metadata": {},
     "outputs": [],
     "prompt_number": 6
    },
    {
     "cell_type": "code",
     "collapsed": false,
     "input": [
      "d = cm_p.main()"
     ],
     "language": "python",
     "metadata": {},
     "outputs": [],
     "prompt_number": 8
    },
    {
     "cell_type": "code",
     "collapsed": false,
     "input": [
      "print d.tail().to_string()"
     ],
     "language": "python",
     "metadata": {},
     "outputs": [
      {
       "output_type": "stream",
       "stream": "stdout",
       "text": [
        "    id  employeenumber lastname firstname extension                         email officecode  reportsto   jobtitle\n",
        "17  19            1612    Marsh     Peter      x102   pmarsh@classicmodelcars.com          6          4  Sales Rep\n",
        "18  20            1619     King       Tom      x103    tking@classicmodelcars.com          6          4  Sales Rep\n",
        "19  21            1621    Nishi      Mami      x101   mnishi@classicmodelcars.com          5          4  Sales Rep\n",
        "20  22            1625     Kato   Yoshimi      x102    ekato@classicmodelcars.com          5          4  Sales Rep\n",
        "21  23            1702   Gerard    Martin     x2312  gmartin@classicmodelcars.com          4          5  Sales Rep\n"
       ]
      }
     ],
     "prompt_number": 24
    },
    {
     "cell_type": "code",
     "collapsed": false,
     "input": [],
     "language": "python",
     "metadata": {},
     "outputs": []
    }
   ],
   "metadata": {}
  }
 ]
}